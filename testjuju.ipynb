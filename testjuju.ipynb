{
 "cells": [
  {
   "cell_type": "code",
   "execution_count": 2,
   "metadata": {},
   "outputs": [
    {
     "name": "stdout",
     "output_type": "stream",
     "text": [
      "1321\n"
     ]
    },
    {
     "name": "stderr",
     "output_type": "stream",
     "text": [
      "Bad pipe message: %s [b' Intel Mac OS X 10.15; rv:138.0) Gecko/20100101 Firefox/138.0\\r\\nAccept: text/html,application/xhtml+xml,', b'plication/xml;q=0.9,*/*;q=0.8\\r\\nAccept-Encoding: gzip, deflate, br, zstd\\r\\nAccept-Language: ko-KR,']\n",
      "Bad pipe message: %s [b';q=0.8,en-US;q=0.5,en;q=0.3\\r\\nDnt: 1\\r\\nPriority: u=4\\r\\nReferer: https://studio.firebase.google.com/\\r\\nSec-Fetc', b'Dest: iframe\\r\\nSec-Fetch-Mode: navigate\\r\\nSec-Fetch-Site: cross-site\\r\\nSec-Gpc: 1\\r\\nSec-User-Ip: 10.20.20.2', b'\\r\\nTe: trailers\\r\\nUpgrade-Insecure-Requests: 1\\r\\nX']\n",
      "Bad pipe message: %s [b'orwarded-Host: 42493-firebase-withjuju-17491']\n",
      "Bad pipe message: %s [b'014492.cluster-htdgsbmflbdmov5xrjithceibm.cloudwor']\n"
     ]
    }
   ],
   "source": [
    "a = 1321\n",
    "print(a)"
   ]
  }
 ],
 "metadata": {
  "kernelspec": {
   "display_name": ".venv",
   "language": "python",
   "name": "python3"
  },
  "language_info": {
   "codemirror_mode": {
    "name": "ipython",
    "version": 3
   },
   "file_extension": ".py",
   "mimetype": "text/x-python",
   "name": "python",
   "nbconvert_exporter": "python",
   "pygments_lexer": "ipython3",
   "version": "3.11.8"
  }
 },
 "nbformat": 4,
 "nbformat_minor": 2
}
